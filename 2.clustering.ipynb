{
  "nbformat": 4,
  "nbformat_minor": 0,
  "metadata": {
    "colab": {
      "provenance": [],
      "gpuType": "T4"
    },
    "kernelspec": {
      "name": "python3",
      "display_name": "Python 3"
    },
    "language_info": {
      "name": "python"
    },
    "accelerator": "GPU"
  },
  "cells": [
    {
      "cell_type": "markdown",
      "source": [
        "\n",
        "\n",
        "\n",
        "\n",
        "*   List item\n",
        "*   List item\n",
        "\n",
        "\n",
        "\n"
      ],
      "metadata": {
        "id": "pk-0otcJPs_X"
      }
    },
    {
      "cell_type": "markdown",
      "source": [
        "# 2 . Build a Clustering Model with Spark with a dataset of your choice"
      ],
      "metadata": {
        "id": "1WUmdlCqXqtS"
      }
    },
    {
      "cell_type": "markdown",
      "source": [
        "Import Required Libraries"
      ],
      "metadata": {
        "id": "gIfmohU26DR8"
      }
    },
    {
      "cell_type": "code",
      "execution_count": 10,
      "metadata": {
        "id": "Svwhaj-JXqCf"
      },
      "outputs": [],
      "source": [
        "from pyspark.sql import SparkSession\n",
        "from pyspark.ml.feature import VectorAssembler\n",
        "from pyspark.ml.clustering import KMeans\n",
        "from pyspark.ml.evaluation import ClusteringEvaluator"
      ]
    },
    {
      "cell_type": "markdown",
      "source": [
        "Initialize Spark Session"
      ],
      "metadata": {
        "id": "x3DiUGiY6TYC"
      }
    },
    {
      "cell_type": "code",
      "source": [
        "from pyspark.sql import SparkSession\n",
        "\n",
        "try:\n",
        "    spark = SparkSession.builder \\\n",
        "        .appName(\"ClusteringModel\") \\\n",
        "        .getOrCreate()\n",
        "    spark.sparkContext.setLogLevel(\"ERROR\")\n",
        "    print(\"Spark session initialized successfully.\")\n",
        "except Exception as e:\n",
        "    print(f\"Error initializing Spark session: {e}\")\n",
        "    exit(1)"
      ],
      "metadata": {
        "colab": {
          "base_uri": "https://localhost:8080/"
        },
        "id": "gJNDkmlY6QCD",
        "outputId": "816b7ead-fd89-4e31-a331-38d56592f172"
      },
      "execution_count": 11,
      "outputs": [
        {
          "output_type": "stream",
          "name": "stdout",
          "text": [
            "Spark session initialized successfully.\n"
          ]
        }
      ]
    },
    {
      "cell_type": "markdown",
      "source": [
        "Load Dataset\n",
        "\n",
        "Dataset: Wholesale customers data"
      ],
      "metadata": {
        "id": "fcqrNBUQ6Wb2"
      }
    },
    {
      "cell_type": "code",
      "source": [
        "import urllib.request\n",
        "import os\n",
        "\n",
        "\n",
        "wholesale_url= \"https://archive.ics.uci.edu/ml/machine-learning-databases/00292/Wholesale%20customers%20data.csv\"\n",
        "local_path = \"wholesale.csv\"  # Specify a local path to save the file\n",
        "\n",
        "urllib.request.urlretrieve(wholesale_url, local_path)\n",
        "\n",
        "data = spark.read.csv(local_path, header=True, inferSchema=True)\n",
        "data.show(5)"
      ],
      "metadata": {
        "colab": {
          "base_uri": "https://localhost:8080/"
        },
        "id": "ZLw6rsqc6UJW",
        "outputId": "f4e61dc8-fb4d-482d-e8da-cbfcc7c2bfcb"
      },
      "execution_count": 12,
      "outputs": [
        {
          "output_type": "stream",
          "name": "stdout",
          "text": [
            "+-------+------+-----+----+-------+------+----------------+----------+\n",
            "|Channel|Region|Fresh|Milk|Grocery|Frozen|Detergents_Paper|Delicassen|\n",
            "+-------+------+-----+----+-------+------+----------------+----------+\n",
            "|      2|     3|12669|9656|   7561|   214|            2674|      1338|\n",
            "|      2|     3| 7057|9810|   9568|  1762|            3293|      1776|\n",
            "|      2|     3| 6353|8808|   7684|  2405|            3516|      7844|\n",
            "|      1|     3|13265|1196|   4221|  6404|             507|      1788|\n",
            "|      2|     3|22615|5410|   7198|  3915|            1777|      5185|\n",
            "+-------+------+-----+----+-------+------+----------------+----------+\n",
            "only showing top 5 rows\n",
            "\n"
          ]
        }
      ]
    },
    {
      "cell_type": "markdown",
      "source": [
        " Data Preprocessing"
      ],
      "metadata": {
        "id": "7lV249RZ7Op_"
      }
    },
    {
      "cell_type": "code",
      "source": [
        "#Select relevant features for clustering:\n",
        "\n",
        "feature_cols = ['Fresh', 'Milk', 'Grocery', 'Frozen', 'Detergents_Paper', 'Delicassen']\n",
        "data = data.select(feature_cols)"
      ],
      "metadata": {
        "id": "S2fYg_m56its"
      },
      "execution_count": 13,
      "outputs": []
    },
    {
      "cell_type": "code",
      "source": [
        "#Assemble features into a single vector:\n",
        "\n",
        "assembler = VectorAssembler(inputCols=feature_cols, outputCol=\"features\")\n",
        "dataset = assembler.transform(data)"
      ],
      "metadata": {
        "id": "-Tkn6G6B7SqL"
      },
      "execution_count": 14,
      "outputs": []
    },
    {
      "cell_type": "markdown",
      "source": [
        "Build & Train the KMeans Model"
      ],
      "metadata": {
        "id": "ZNyeDCRH7bh_"
      }
    },
    {
      "cell_type": "code",
      "source": [
        "kmeans = KMeans().setK(3).setSeed(1)\n",
        "model = kmeans.fit(dataset)"
      ],
      "metadata": {
        "id": "m0g-Zj4L7b8N"
      },
      "execution_count": 15,
      "outputs": []
    },
    {
      "cell_type": "markdown",
      "source": [
        "Make Predictions"
      ],
      "metadata": {
        "id": "OIefbuDc7vVR"
      }
    },
    {
      "cell_type": "code",
      "source": [
        "predictions = model.transform(dataset)\n",
        "predictions.select(\"prediction\").show(5)"
      ],
      "metadata": {
        "colab": {
          "base_uri": "https://localhost:8080/"
        },
        "id": "KIb9-37x7sUs",
        "outputId": "eaffc417-1f95-4090-aa5b-f8fca6b2b303"
      },
      "execution_count": 16,
      "outputs": [
        {
          "output_type": "stream",
          "name": "stdout",
          "text": [
            "+----------+\n",
            "|prediction|\n",
            "+----------+\n",
            "|         0|\n",
            "|         0|\n",
            "|         0|\n",
            "|         0|\n",
            "|         1|\n",
            "+----------+\n",
            "only showing top 5 rows\n",
            "\n"
          ]
        }
      ]
    },
    {
      "cell_type": "markdown",
      "source": [
        "Evaluate Clustering"
      ],
      "metadata": {
        "id": "ggu6aKg17w3d"
      }
    },
    {
      "cell_type": "code",
      "source": [
        "evaluator = ClusteringEvaluator()\n",
        "silhouette = evaluator.evaluate(predictions)\n",
        "print(f\"Silhouette Score: {silhouette}\")"
      ],
      "metadata": {
        "colab": {
          "base_uri": "https://localhost:8080/"
        },
        "id": "gJHXrB2_7zQi",
        "outputId": "4f8a1e51-74b8-4c2e-a6b9-8d6f69157445"
      },
      "execution_count": 17,
      "outputs": [
        {
          "output_type": "stream",
          "name": "stdout",
          "text": [
            "Silhouette Score: 0.6482181662567144\n"
          ]
        }
      ]
    },
    {
      "cell_type": "markdown",
      "source": [
        "Analyze Cluster Centers"
      ],
      "metadata": {
        "id": "sTGvWFb-78nA"
      }
    },
    {
      "cell_type": "code",
      "source": [
        "centers = model.clusterCenters()\n",
        "print(\"Cluster Centers: \")\n",
        "for center in centers:\n",
        "    print(center)"
      ],
      "metadata": {
        "colab": {
          "base_uri": "https://localhost:8080/"
        },
        "id": "oqaNaqoi78CC",
        "outputId": "080d8997-0157-483d-e98b-1952e3c7f2b6"
      },
      "execution_count": 18,
      "outputs": [
        {
          "output_type": "stream",
          "name": "stdout",
          "text": [
            "Cluster Centers: \n",
            "[7390.95845697 4439.76854599 6292.1958457  2495.53412463 2238.65281899\n",
            " 1158.44807122]\n",
            "[32768.01333333  4827.68        5723.14666667  5535.92\n",
            "  1074.12        2066.64      ]\n",
            "[11849.17857143 24717.10714286 33887.71428571  3409.32142857\n",
            " 15459.71428571  4483.85714286]\n"
          ]
        }
      ]
    },
    {
      "cell_type": "code",
      "source": [
        "spark.stop()"
      ],
      "metadata": {
        "id": "QpPzPV_684FH"
      },
      "execution_count": 19,
      "outputs": []
    }
  ]
}