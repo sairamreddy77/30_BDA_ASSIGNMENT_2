{
  "nbformat": 4,
  "nbformat_minor": 0,
  "metadata": {
    "colab": {
      "provenance": []
    },
    "kernelspec": {
      "name": "python3",
      "display_name": "Python 3"
    },
    "language_info": {
      "name": "python"
    }
  },
  "cells": [
    {
      "cell_type": "markdown",
      "source": [
        "# 3 . Build a Recommendation Engine with Spark with a dataset of your choice"
      ],
      "metadata": {
        "id": "NAWgllOt8InO"
      }
    },
    {
      "cell_type": "markdown",
      "source": [
        "Import Necessary Libraries"
      ],
      "metadata": {
        "id": "sGTzIBJ78US6"
      }
    },
    {
      "cell_type": "code",
      "execution_count": 16,
      "metadata": {
        "id": "54g_1E8E8E4j"
      },
      "outputs": [],
      "source": [
        "from pyspark.sql import SparkSession\n",
        "from pyspark.ml.recommendation import ALS\n",
        "from pyspark.sql.functions import col\n",
        "from pyspark.ml.evaluation import RegressionEvaluator"
      ]
    },
    {
      "cell_type": "markdown",
      "source": [
        "Initialize Spark Session"
      ],
      "metadata": {
        "id": "XLdTxgDs8W90"
      }
    },
    {
      "cell_type": "code",
      "source": [
        "from pyspark.sql import SparkSession\n",
        "\n",
        "try:\n",
        "    spark = SparkSession.builder \\\n",
        "        .appName(\"Movie Recommendation System\") \\\n",
        "        .getOrCreate()\n",
        "    spark.sparkContext.setLogLevel(\"ERROR\")\n",
        "    print(\"Spark session initialized successfully.\")\n",
        "except Exception as e:\n",
        "    print(f\"Error initializing Spark session: {e}\")\n",
        "    exit(1)"
      ],
      "metadata": {
        "colab": {
          "base_uri": "https://localhost:8080/"
        },
        "id": "edMsLd3f8WTS",
        "outputId": "242a33c4-8cb5-44af-eab5-2191c96b69d8"
      },
      "execution_count": 17,
      "outputs": [
        {
          "output_type": "stream",
          "name": "stdout",
          "text": [
            "Spark session initialized successfully.\n"
          ]
        }
      ]
    },
    {
      "cell_type": "markdown",
      "source": [
        "Load the MovieLens Dataset"
      ],
      "metadata": {
        "id": "qlR8qAcy9Avs"
      }
    },
    {
      "cell_type": "code",
      "source": [
        "#data set is taken from movielens\n",
        "\n",
        "ratings = spark.read.csv(\"/content/ratings.csv\",inferSchema=True, header=True)\n",
        "movies = spark.read.csv(\"/content/movies.csv\",inferSchema=True, header=True)\n",
        "\n",
        "ratings.show(5)\n",
        "movies.show(5)"
      ],
      "metadata": {
        "colab": {
          "base_uri": "https://localhost:8080/"
        },
        "id": "GFQiAUVb-trd",
        "outputId": "0cf85e64-c7be-4f6d-c41f-a06f259a667d"
      },
      "execution_count": 21,
      "outputs": [
        {
          "output_type": "stream",
          "name": "stdout",
          "text": [
            "+------+-------+------+---------+\n",
            "|userId|movieId|rating|timestamp|\n",
            "+------+-------+------+---------+\n",
            "|     1|      1|   4.0|964982703|\n",
            "|     1|      3|   4.0|964981247|\n",
            "|     1|      6|   4.0|964982224|\n",
            "|     1|     47|   5.0|964983815|\n",
            "|     1|     50|   5.0|964982931|\n",
            "+------+-------+------+---------+\n",
            "only showing top 5 rows\n",
            "\n",
            "+-------+--------------------+--------------------+\n",
            "|movieId|               title|              genres|\n",
            "+-------+--------------------+--------------------+\n",
            "|      1|    Toy Story (1995)|Adventure|Animati...|\n",
            "|      2|      Jumanji (1995)|Adventure|Childre...|\n",
            "|      3|Grumpier Old Men ...|      Comedy|Romance|\n",
            "|      4|Waiting to Exhale...|Comedy|Drama|Romance|\n",
            "|      5|Father of the Bri...|              Comedy|\n",
            "+-------+--------------------+--------------------+\n",
            "only showing top 5 rows\n",
            "\n"
          ]
        }
      ]
    },
    {
      "cell_type": "markdown",
      "source": [
        "Prepare the Ratings Data"
      ],
      "metadata": {
        "id": "O71WQydfMrvI"
      }
    },
    {
      "cell_type": "code",
      "source": [
        "ratings = ratings.select(\"userId\", \"movieId\", \"rating\")\n",
        "ratings = ratings.withColumn(\"userId\", col(\"userId\").cast(\"int\"))\n",
        "ratings = ratings.withColumn(\"movieId\", col(\"movieId\").cast(\"int\"))\n",
        "ratings = ratings.withColumn(\"rating\", col(\"rating\").cast(\"float\"))"
      ],
      "metadata": {
        "id": "9KmF-6fLLNyO"
      },
      "execution_count": 22,
      "outputs": []
    },
    {
      "cell_type": "markdown",
      "source": [
        "Split Data"
      ],
      "metadata": {
        "id": "LrZKTG1IMrZJ"
      }
    },
    {
      "cell_type": "code",
      "source": [
        "(training_data, test_data) = ratings.randomSplit([0.8, 0.2])"
      ],
      "metadata": {
        "id": "X7w1lNbIMj_N"
      },
      "execution_count": 23,
      "outputs": []
    },
    {
      "cell_type": "markdown",
      "source": [
        "Build and Train ALS Model"
      ],
      "metadata": {
        "id": "erK9qahuMrC8"
      }
    },
    {
      "cell_type": "code",
      "source": [
        "from pyspark.ml.recommendation import ALS\n",
        "\n",
        "als = ALS(\n",
        "    maxIter=10,\n",
        "    regParam=0.1,\n",
        "    userCol=\"userId\",\n",
        "    itemCol=\"movieId\",\n",
        "    ratingCol=\"rating\",\n",
        "    coldStartStrategy=\"drop\"\n",
        ")\n",
        "\n",
        "model = als.fit(training_data)"
      ],
      "metadata": {
        "id": "kAYLGPXdMmG9"
      },
      "execution_count": 24,
      "outputs": []
    },
    {
      "cell_type": "markdown",
      "source": [
        "Evaluate Model"
      ],
      "metadata": {
        "id": "KiLzOkAxM4e3"
      }
    },
    {
      "cell_type": "code",
      "source": [
        "from pyspark.ml.evaluation import RegressionEvaluator\n",
        "\n",
        "predictions = model.transform(test_data)\n",
        "\n",
        "evaluator = RegressionEvaluator(\n",
        "    metricName=\"rmse\",\n",
        "    labelCol=\"rating\",\n",
        "    predictionCol=\"prediction\"\n",
        ")\n",
        "\n",
        "rmse = evaluator.evaluate(predictions)\n",
        "print(f\"Root-mean-square error = {rmse:.2f}\")\n"
      ],
      "metadata": {
        "colab": {
          "base_uri": "https://localhost:8080/"
        },
        "id": "Orr_199TMzlX",
        "outputId": "7830a691-13fe-463f-aeec-dff1eea92183"
      },
      "execution_count": 25,
      "outputs": [
        {
          "output_type": "stream",
          "name": "stdout",
          "text": [
            "Root-mean-square error = 0.88\n"
          ]
        }
      ]
    },
    {
      "cell_type": "markdown",
      "source": [
        "Generate Recommendations\n",
        "\n",
        "Top 5 for all users:"
      ],
      "metadata": {
        "id": "1BKV52G6M-np"
      }
    },
    {
      "cell_type": "code",
      "source": [
        "user_recs = model.recommendForAllUsers(5)\n",
        "user_recs.show(5, truncate=False)"
      ],
      "metadata": {
        "colab": {
          "base_uri": "https://localhost:8080/"
        },
        "id": "k9d1cVJ9M9A1",
        "outputId": "c813c413-0bcd-444b-a5a8-98f40c1fdd86"
      },
      "execution_count": 26,
      "outputs": [
        {
          "output_type": "stream",
          "name": "stdout",
          "text": [
            "+------+---------------------------------------------------------------------------------------------------------+\n",
            "|userId|recommendations                                                                                          |\n",
            "+------+---------------------------------------------------------------------------------------------------------+\n",
            "|1     |[{184245, 5.5768685}, {179135, 5.5768685}, {171495, 5.5768685}, {134796, 5.5768685}, {117531, 5.5768685}]|\n",
            "|2     |[{131724, 4.89709}, {58301, 4.7669554}, {3153, 4.762315}, {59814, 4.7587514}, {89753, 4.716039}]         |\n",
            "|3     |[{70946, 5.032664}, {6835, 4.914385}, {5919, 4.8469124}, {5181, 4.84385}, {7991, 4.7472157}]             |\n",
            "|4     |[{7700, 6.005274}, {522, 5.5971065}, {3089, 5.4002047}, {25825, 5.3504267}, {132333, 5.2476616}]         |\n",
            "|5     |[{7700, 4.8395557}, {3089, 4.7664423}, {25825, 4.7065177}, {1203, 4.657878}, {898, 4.6559825}]           |\n",
            "+------+---------------------------------------------------------------------------------------------------------+\n",
            "only showing top 5 rows\n",
            "\n"
          ]
        }
      ]
    },
    {
      "cell_type": "markdown",
      "source": [
        "Map Movie Titles to Recommendations"
      ],
      "metadata": {
        "id": "t4I4sNUpNHjV"
      }
    },
    {
      "cell_type": "code",
      "source": [
        "# Explode recommendation list into rows\n",
        "from pyspark.sql.functions import explode\n",
        "\n",
        "recs = user_recs.select(\"userId\", explode(\"recommendations\").alias(\"rec\")) \\\n",
        "                .select(\"userId\", col(\"rec.movieId\"), col(\"rec.rating\"))\n",
        "\n",
        "# Join with movie titles\n",
        "recs_with_titles = recs.join(movies, on=\"movieId\")\n",
        "recs_with_titles.select(\"userId\", \"title\", \"rating\").show(truncate=False)\n"
      ],
      "metadata": {
        "colab": {
          "base_uri": "https://localhost:8080/"
        },
        "id": "y_hev0_1ND3s",
        "outputId": "0279d0dd-c503-4537-9e1f-175afac0bef5"
      },
      "execution_count": 27,
      "outputs": [
        {
          "output_type": "stream",
          "name": "stdout",
          "text": [
            "+------+----------------------------------------------------------------------------------------------------+---------+\n",
            "|userId|title                                                                                               |rating   |\n",
            "+------+----------------------------------------------------------------------------------------------------+---------+\n",
            "|1     |De platte jungle (1978)                                                                             |5.5768685|\n",
            "|1     |Blue Planet II (2017)                                                                               |5.5768685|\n",
            "|1     |Cosmos                                                                                              |5.5768685|\n",
            "|1     |Bitter Lake (2015)                                                                                  |5.5768685|\n",
            "|1     |Watermark (2014)                                                                                    |5.5768685|\n",
            "|2     |The Jinx: The Life and Deaths of Robert Durst (2015)                                                |4.89709  |\n",
            "|2     |Funny Games U.S. (2007)                                                                             |4.7669554|\n",
            "|2     |7th Voyage of Sinbad, The (1958)                                                                    |4.762315 |\n",
            "|2     |Ex Drummer (2007)                                                                                   |4.7587514|\n",
            "|2     |Tinker Tailor Soldier Spy (2011)                                                                    |4.716039 |\n",
            "|3     |Troll 2 (1990)                                                                                      |5.032664 |\n",
            "|3     |Alien Contamination (1980)                                                                          |4.914385 |\n",
            "|3     |Android (1982)                                                                                      |4.8469124|\n",
            "|3     |Hangar 18 (1980)                                                                                    |4.84385  |\n",
            "|3     |Death Race 2000 (1975)                                                                              |4.7472157|\n",
            "|4     |Wages of Fear, The (Salaire de la peur, Le) (1953)                                                  |6.005274 |\n",
            "|4     |Romper Stomper (1992)                                                                               |5.5971065|\n",
            "|4     |Bicycle Thieves (a.k.a. The Bicycle Thief) (a.k.a. The Bicycle Thieves) (Ladri di biciclette) (1948)|5.4002047|\n",
            "|4     |Fury (1936)                                                                                         |5.3504267|\n",
            "|4     |Seve (2014)                                                                                         |5.2476616|\n",
            "+------+----------------------------------------------------------------------------------------------------+---------+\n",
            "only showing top 20 rows\n",
            "\n"
          ]
        }
      ]
    },
    {
      "cell_type": "code",
      "source": [
        "spark.stop()"
      ],
      "metadata": {
        "id": "ojku4a6mNrNi"
      },
      "execution_count": 28,
      "outputs": []
    }
  ]
}